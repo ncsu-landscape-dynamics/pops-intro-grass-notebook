{
 "cells": [
  {
   "cell_type": "markdown",
   "metadata": {},
   "source": [
    "# Try PoPS in Jupyter Notebook"
   ]
  },
  {
   "cell_type": "markdown",
   "metadata": {},
   "source": [
    "[r.pops.spread](https://grass.osgeo.org/grass7/manuals/addons/r.pops.spread.html) is a model for stochastic landscape spread of the pest and pathogens. It uses PoPS (Pest or Pathogen Spread) library. In this tutorial we will use it specifically to model the spread of Sudden Oak Death tree disease in the Rouge River-Siskiyou National Forest region of western Oregon. This tutorial uses sample dataset with\n",
    "\n",
    "* tanoak host layer (LEMMA data)\n",
    "* digital elevation model (NED)\n",
    "* orthophoto (NAIP)\n",
    "* roads, streams (USGS)\n",
    "* mapset containing weather coefficients\n"
   ]
  },
  {
   "cell_type": "markdown",
   "metadata": {},
   "source": [
    "### Intro to Jupyter Notebook"
   ]
  },
  {
   "cell_type": "markdown",
   "metadata": {},
   "source": [
    "This is a quick introduction into Jupyter Notebook.  Use Shift+Enter to execute cells."
   ]
  },
  {
   "cell_type": "code",
   "execution_count": null,
   "metadata": {},
   "outputs": [],
   "source": [
    "a = 6\n",
    "b = 7\n",
    "c = a * b\n",
    "print(\"Answer is\", c)"
   ]
  },
  {
   "cell_type": "markdown",
   "metadata": {},
   "source": [
    "Python code can be mixed with command line code (Bash).\n",
    "It is enough just to prefix the command line with an exclamation mark:"
   ]
  },
  {
   "cell_type": "code",
   "execution_count": null,
   "metadata": {},
   "outputs": [],
   "source": [
    "!echo \"Answer is $c\""
   ]
  },
  {
   "cell_type": "markdown",
   "metadata": {},
   "source": [
    "### Setting up GRASS GIS session\n"
   ]
  },
  {
   "cell_type": "code",
   "execution_count": null,
   "metadata": {},
   "outputs": [],
   "source": [
    "from IPython.display import Image\n",
    "from helper import initialize_GRASS_notebook\n",
    "\n",
    "initialize_GRASS_notebook(binary=\"grass\",\n",
    "                          grassdata=\"data/grassdata\", location=\"PoPS_SOD_tutorial\",\n",
    "                          mapset=\"tutorial\")\n",
    "\n",
    "\n",
    "import grass.script as gs\n",
    "from helper import show_interactively, show"
   ]
  },
  {
   "cell_type": "markdown",
   "metadata": {},
   "source": [
    "## Simulation"
   ]
  },
  {
   "cell_type": "markdown",
   "metadata": {},
   "source": [
    "First, we will set computational region of our analyses to predefined study area:\n"
   ]
  },
  {
   "cell_type": "code",
   "execution_count": null,
   "metadata": {},
   "outputs": [],
   "source": [
    "gs.run_command('g.region', region='small_study_area', flags='p')"
   ]
  },
  {
   "cell_type": "markdown",
   "metadata": {},
   "source": [
    "We use already prepared weather coefficients, represented by raster layers per each week of a simulation.\n",
    "With that, we need to prepare a text file. List and write the maps in a file using g.list:"
   ]
  },
  {
   "cell_type": "code",
   "execution_count": null,
   "metadata": {},
   "outputs": [],
   "source": [
    "gs.run_command('g.list', type='raster', pattern=\"average_weather_*\", mapset='weather', output='weather.txt')"
   ]
  },
  {
   "cell_type": "markdown",
   "metadata": {},
   "source": [
    "Run the model using the text file created and setting the required parameters. For this analysis we used a wind direction of NE and are looking at the first 5 years of spread from the initial 2019 infection discovery."
   ]
  },
  {
   "cell_type": "code",
   "execution_count": null,
   "metadata": {},
   "outputs": [],
   "source": [
    "gs.run_command('r.pops.spread', host='host', total_plants='max_host', infected='eu_infection_2019', single_series='spread_sod', natural_direction='NE', natural_dispersal_kernel='exponential', natural_distance=200, natural_direction_strength=2, weather_coefficient_file='weather.txt', start_time=2019, end_time=2023, step='week', random_seed=1)"
   ]
  }
 ],
 "metadata": {
  "kernelspec": {
   "display_name": "Python 3",
   "language": "python",
   "name": "python3"
  },
  "language_info": {
   "codemirror_mode": {
    "name": "ipython",
    "version": 3
   },
   "file_extension": ".py",
   "mimetype": "text/x-python",
   "name": "python",
   "nbconvert_exporter": "python",
   "pygments_lexer": "ipython3",
   "version": "3.6.9"
  }
 },
 "nbformat": 4,
 "nbformat_minor": 1
}
